{
 "cells": [
  {
   "cell_type": "code",
   "execution_count": 22,
   "id": "783ec5ca",
   "metadata": {},
   "outputs": [],
   "source": [
    "#Loan Status prediction using Logistic regression\n",
    "import pandas as pd\n",
    "import matplotlib.pyplot as plt\n",
    "from sklearn.linear_model import LogisticRegression\n",
    "from sklearn.model_selection import train_test_split\n",
    "from sklearn.metrics import confusion_matrix\n",
    "from sklearn.preprocessing import StandardScaler"
   ]
  },
  {
   "cell_type": "code",
   "execution_count": 4,
   "id": "6c3199fd",
   "metadata": {},
   "outputs": [],
   "source": [
    "orgdata=pd.read_csv(\"01Exercise1.csv\")"
   ]
  },
  {
   "cell_type": "code",
   "execution_count": 5,
   "id": "64467218",
   "metadata": {},
   "outputs": [],
   "source": [
    "dataloan=orgdata.copy()"
   ]
  },
  {
   "cell_type": "code",
   "execution_count": 9,
   "id": "dd6d0f94",
   "metadata": {},
   "outputs": [
    {
     "data": {
      "text/html": [
       "<div>\n",
       "<style scoped>\n",
       "    .dataframe tbody tr th:only-of-type {\n",
       "        vertical-align: middle;\n",
       "    }\n",
       "\n",
       "    .dataframe tbody tr th {\n",
       "        vertical-align: top;\n",
       "    }\n",
       "\n",
       "    .dataframe thead th {\n",
       "        text-align: right;\n",
       "    }\n",
       "</style>\n",
       "<table border=\"1\" class=\"dataframe\">\n",
       "  <thead>\n",
       "    <tr style=\"text-align: right;\">\n",
       "      <th></th>\n",
       "      <th>gender</th>\n",
       "      <th>married</th>\n",
       "      <th>ch</th>\n",
       "      <th>income</th>\n",
       "      <th>loanamt</th>\n",
       "      <th>status</th>\n",
       "    </tr>\n",
       "  </thead>\n",
       "  <tbody>\n",
       "    <tr>\n",
       "      <th>0</th>\n",
       "      <td>Male</td>\n",
       "      <td>No</td>\n",
       "      <td>1.0</td>\n",
       "      <td>5849</td>\n",
       "      <td>NaN</td>\n",
       "      <td>Y</td>\n",
       "    </tr>\n",
       "    <tr>\n",
       "      <th>1</th>\n",
       "      <td>Male</td>\n",
       "      <td>Yes</td>\n",
       "      <td>1.0</td>\n",
       "      <td>4583</td>\n",
       "      <td>128.0</td>\n",
       "      <td>N</td>\n",
       "    </tr>\n",
       "    <tr>\n",
       "      <th>2</th>\n",
       "      <td>Male</td>\n",
       "      <td>Yes</td>\n",
       "      <td>1.0</td>\n",
       "      <td>3000</td>\n",
       "      <td>66.0</td>\n",
       "      <td>Y</td>\n",
       "    </tr>\n",
       "    <tr>\n",
       "      <th>3</th>\n",
       "      <td>Male</td>\n",
       "      <td>Yes</td>\n",
       "      <td>1.0</td>\n",
       "      <td>2583</td>\n",
       "      <td>120.0</td>\n",
       "      <td>Y</td>\n",
       "    </tr>\n",
       "    <tr>\n",
       "      <th>4</th>\n",
       "      <td>Male</td>\n",
       "      <td>No</td>\n",
       "      <td>1.0</td>\n",
       "      <td>6000</td>\n",
       "      <td>141.0</td>\n",
       "      <td>Y</td>\n",
       "    </tr>\n",
       "  </tbody>\n",
       "</table>\n",
       "</div>"
      ],
      "text/plain": [
       "  gender married   ch  income  loanamt status\n",
       "0   Male      No  1.0    5849      NaN      Y\n",
       "1   Male     Yes  1.0    4583    128.0      N\n",
       "2   Male     Yes  1.0    3000     66.0      Y\n",
       "3   Male     Yes  1.0    2583    120.0      Y\n",
       "4   Male      No  1.0    6000    141.0      Y"
      ]
     },
     "execution_count": 9,
     "metadata": {},
     "output_type": "execute_result"
    }
   ],
   "source": [
    "dataloan.head()"
   ]
  },
  {
   "cell_type": "code",
   "execution_count": 11,
   "id": "f4c64d7e",
   "metadata": {},
   "outputs": [
    {
     "data": {
      "text/plain": [
       "gender     13\n",
       "married     3\n",
       "ch         50\n",
       "income      0\n",
       "loanamt    22\n",
       "status      0\n",
       "dtype: int64"
      ]
     },
     "execution_count": 11,
     "metadata": {},
     "output_type": "execute_result"
    }
   ],
   "source": [
    "dataloan.isnull().sum()"
   ]
  },
  {
   "cell_type": "code",
   "execution_count": 15,
   "id": "659a465a",
   "metadata": {},
   "outputs": [],
   "source": [
    "dataloan=dataloan.dropna()"
   ]
  },
  {
   "cell_type": "code",
   "execution_count": 16,
   "id": "0a34f4ac",
   "metadata": {},
   "outputs": [
    {
     "data": {
      "text/plain": [
       "gender     0\n",
       "married    0\n",
       "ch         0\n",
       "income     0\n",
       "loanamt    0\n",
       "status     0\n",
       "dtype: int64"
      ]
     },
     "execution_count": 16,
     "metadata": {},
     "output_type": "execute_result"
    }
   ],
   "source": [
    "\n",
    "dataloan.isnull().sum()"
   ]
  },
  {
   "cell_type": "code",
   "execution_count": 17,
   "id": "1a52c423",
   "metadata": {},
   "outputs": [],
   "source": [
    "dataloan=dataloan.drop(['gender'],axis=1)"
   ]
  },
  {
   "cell_type": "code",
   "execution_count": 43,
   "id": "62d2c694",
   "metadata": {},
   "outputs": [],
   "source": [
    "dataloan=pd.get_dummies(dataloan,drop_first=True)"
   ]
  },
  {
   "cell_type": "code",
   "execution_count": 44,
   "id": "ea72b702",
   "metadata": {},
   "outputs": [
    {
     "data": {
      "text/plain": [
       "Index(['ch', 'income', 'loanamt', 'married_Yes', 'status_Y'], dtype='object')"
      ]
     },
     "execution_count": 44,
     "metadata": {},
     "output_type": "execute_result"
    }
   ],
   "source": [
    "dataloan.columns"
   ]
  },
  {
   "cell_type": "code",
   "execution_count": 45,
   "id": "d91345f0",
   "metadata": {},
   "outputs": [
    {
     "data": {
      "text/plain": [
       "{'whiskers': [<matplotlib.lines.Line2D at 0x25851117160>,\n",
       "  <matplotlib.lines.Line2D at 0x25851117f10>],\n",
       " 'caps': [<matplotlib.lines.Line2D at 0x25851142610>,\n",
       "  <matplotlib.lines.Line2D at 0x258511459d0>],\n",
       " 'boxes': [<matplotlib.lines.Line2D at 0x25851470b50>],\n",
       " 'medians': [<matplotlib.lines.Line2D at 0x25851169e20>],\n",
       " 'fliers': [<matplotlib.lines.Line2D at 0x25851169670>],\n",
       " 'means': []}"
      ]
     },
     "execution_count": 45,
     "metadata": {},
     "output_type": "execute_result"
    },
    {
     "data": {
      "image/png": "[encoded data removed]",
      "text/plain": [
       "<Figure size 432x288 with 1 Axes>"
      ]
     },
     "metadata": {
      "needs_background": "light"
     },
     "output_type": "display_data"
    },
    {
     "data": {
      "image/png": "[encoded data removed]",
      "text/plain": [
       "<Figure size 432x288 with 1 Axes>"
      ]
     },
     "metadata": {
      "needs_background": "light"
     },
     "output_type": "display_data"
    }
   ],
   "source": [
    "plt.figure()\n",
    "plt.title(\"income boxplot\")\n",
    "plt.boxplot(dataloan['income'])\n",
    "\n",
    "plt.figure(\"Loan amount box plot\")\n",
    "plt.boxplot(dataloan['loanamt'])"
   ]
  },
  {
   "cell_type": "code",
   "execution_count": 46,
   "id": "5eaa2202",
   "metadata": {},
   "outputs": [],
   "source": [
    "scalarloan=StandardScaler()"
   ]
  },
  {
   "cell_type": "code",
   "execution_count": 47,
   "id": "b14d334a",
   "metadata": {},
   "outputs": [],
   "source": [
    "dataloan['income']=scalar.fit_transform(dataloan[['income']])\n"
   ]
  },
  {
   "cell_type": "code",
   "execution_count": 48,
   "id": "80b42a53",
   "metadata": {},
   "outputs": [],
   "source": [
    "dataloan['loanamt']=scalar.fit_transform(dataloan[['loanamt']])"
   ]
  },
  {
   "cell_type": "code",
   "execution_count": 49,
   "id": "d0887844",
   "metadata": {},
   "outputs": [
    {
     "data": {
      "text/plain": [
       "Index(['ch', 'income', 'loanamt', 'married_Yes', 'status_Y'], dtype='object')"
      ]
     },
     "execution_count": 49,
     "metadata": {},
     "output_type": "execute_result"
    }
   ],
   "source": [
    "dataloan.columns"
   ]
  },
  {
   "cell_type": "code",
   "execution_count": 53,
   "id": "c15f4ef0",
   "metadata": {},
   "outputs": [],
   "source": [
    "y=dataloan[['status_Y']]"
   ]
  },
  {
   "cell_type": "code",
   "execution_count": 55,
   "id": "846ad9de",
   "metadata": {},
   "outputs": [],
   "source": [
    "x=dataloan.drop(['status_Y'],axis=1)"
   ]
  },
  {
   "cell_type": "code",
   "execution_count": null,
   "id": "176825e0",
   "metadata": {},
   "outputs": [],
   "source": []
  },
  {
   "cell_type": "code",
   "execution_count": 56,
   "id": "492a2a83",
   "metadata": {},
   "outputs": [],
   "source": [
    "x_train,x_test,y_train,y_test=train_test_split(x,y,test_size=.7,random_state=123)"
   ]
  },
  {
   "cell_type": "code",
   "execution_count": 57,
   "id": "dcced88b",
   "metadata": {},
   "outputs": [],
   "source": [
    "lgrloan=LogisticRegression()"
   ]
  },
  {
   "cell_type": "code",
   "execution_count": 58,
   "id": "b54e4106",
   "metadata": {},
   "outputs": [
    {
     "name": "stderr",
     "output_type": "stream",
     "text": [
      "C:\\Users\\BaijnathKumar\\Anaconda3\\lib\\site-packages\\sklearn\\utils\\validation.py:63: DataConversionWarning: A column-vector y was passed when a 1d array was expected. Please change the shape of y to (n_samples, ), for example using ravel().\n",
      "  return f(*args, **kwargs)\n"
     ]
    },
    {
     "data": {
      "text/plain": [
       "LogisticRegression()"
      ]
     },
     "execution_count": 58,
     "metadata": {},
     "output_type": "execute_result"
    }
   ],
   "source": [
    "lgrloan.fit(x_train,y_train)"
   ]
  },
  {
   "cell_type": "code",
   "execution_count": 59,
   "id": "d484aec3",
   "metadata": {},
   "outputs": [],
   "source": [
    "y_pre=lgrloan.predict(x_test)"
   ]
  },
  {
   "cell_type": "code",
   "execution_count": 60,
   "id": "0f77d610",
   "metadata": {},
   "outputs": [],
   "source": [
    "scorelgr=lgrloan.score(x_test,y_test)"
   ]
  },
  {
   "cell_type": "code",
   "execution_count": 62,
   "id": "62eca4c7",
   "metadata": {},
   "outputs": [],
   "source": [
    "cm=confusion_matrix(y_test,y_pre)"
   ]
  },
  {
   "cell_type": "code",
   "execution_count": 63,
   "id": "d4b88a1c",
   "metadata": {},
   "outputs": [
    {
     "data": {
      "text/plain": [
       "array([[ 48,  66],\n",
       "       [  9, 248]], dtype=int64)"
      ]
     },
     "execution_count": 63,
     "metadata": {},
     "output_type": "execute_result"
    }
   ],
   "source": [
    "cm"
   ]
  },
  {
   "cell_type": "code",
   "execution_count": 64,
   "id": "e5bea3b5",
   "metadata": {},
   "outputs": [
    {
     "data": {
      "text/plain": [
       "0.7978436657681941"
      ]
     },
     "execution_count": 64,
     "metadata": {},
     "output_type": "execute_result"
    }
   ],
   "source": [
    "scorelgr"
   ]
  },
  {
   "cell_type": "code",
   "execution_count": null,
   "id": "97bca543",
   "metadata": {},
   "outputs": [],
   "source": []
  }
 ],
 "metadata": {
  "kernelspec": {
   "display_name": "Python 3 (ipykernel)",
   "language": "python",
   "name": "python3"
  },
  "language_info": {
   "codemirror_mode": {
    "name": "ipython",
    "version": 3
   },
   "file_extension": ".py",
   "mimetype": "text/x-python",
   "name": "python",
   "nbconvert_exporter": "python",
   "pygments_lexer": "ipython3",
   "version": "3.9.7"
  }
 },
 "nbformat": 4,
 "nbformat_minor": 5
}
